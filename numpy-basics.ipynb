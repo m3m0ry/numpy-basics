{
 "cells": [
  {
   "cell_type": "markdown",
   "id": "e0229c91",
   "metadata": {
    "slideshow": {
     "slide_type": "slide"
    }
   },
   "source": [
    "[Numpy Basics](https://github.com/m3m0ry/numpy-basics)"
   ]
  },
  {
   "cell_type": "markdown",
   "id": "702b0a9e-cb7b-4671-b0b9-5affc17ea0ac",
   "metadata": {
    "slideshow": {
     "slide_type": "slide"
    }
   },
   "source": [
    "# numpy - C's speed at Python's convenience\n",
    "- THE package for scientific computing\n",
    "- provides fast operatations on multidimensional arrays\n",
    "- basis of many scientific packages: scipy, matplotlib, opencv, tensorflow, ...\n",
    "- drop in replacements: cupy, nclpy, ..."
   ]
  },
  {
   "cell_type": "code",
   "execution_count": 1,
   "id": "9965f329",
   "metadata": {},
   "outputs": [],
   "source": [
    "import numpy as np"
   ]
  },
  {
   "cell_type": "code",
   "execution_count": 2,
   "id": "3902dfd3",
   "metadata": {},
   "outputs": [],
   "source": [
    "# questions: Yes"
   ]
  },
  {
   "cell_type": "markdown",
   "id": "fcbd50c5",
   "metadata": {
    "slideshow": {
     "slide_type": "subslide"
    }
   },
   "source": [
    "## Simple speed comparison\n",
    "Numpy is faster then vanilla python by ~2-3 orders of magnitude."
   ]
  },
  {
   "cell_type": "code",
   "execution_count": 3,
   "id": "58d7fff1",
   "metadata": {},
   "outputs": [
    {
     "name": "stdout",
     "output_type": "stream",
     "text": [
      "2.61 ms ± 78.2 µs per loop (mean ± std. dev. of 7 runs, 100 loops each)\n"
     ]
    }
   ],
   "source": [
    "L = range(10000)\n",
    "%timeit [i**2 for i in L]"
   ]
  },
  {
   "cell_type": "code",
   "execution_count": 4,
   "id": "76c02c3a",
   "metadata": {},
   "outputs": [
    {
     "name": "stdout",
     "output_type": "stream",
     "text": [
      "6.03 µs ± 69.5 ns per loop (mean ± std. dev. of 7 runs, 100000 loops each)\n"
     ]
    }
   ],
   "source": [
    "a = np.arange(10000)\n",
    "%timeit a**2"
   ]
  },
  {
   "cell_type": "markdown",
   "id": "6e581310",
   "metadata": {
    "slideshow": {
     "slide_type": "slide"
    }
   },
   "source": [
    "## np.ndarray\n",
    "- fixed size\n",
    "- [fixed datatype](https://numpy.org/doc/stable/user/basics.types.html): (float64, float32, int32, uint64, ...)\n",
    "- [Array Creation](https://numpy.org/doc/stable/user/basics.creation.html)\n",
    "\n",
    "### Array Creation\n",
    "(because we need to start with something)"
   ]
  },
  {
   "cell_type": "markdown",
   "id": "37692beb",
   "metadata": {
    "slideshow": {
     "slide_type": "-"
    }
   },
   "source": [
    "There are multiple ways of creating an array. Numpy provides functions for common cases."
   ]
  },
  {
   "cell_type": "markdown",
   "id": "0e2a5bf7",
   "metadata": {
    "slideshow": {
     "slide_type": "subslide"
    }
   },
   "source": [
    "Lists of integers and floats"
   ]
  },
  {
   "cell_type": "code",
   "execution_count": 5,
   "id": "b6dd8114",
   "metadata": {
    "slideshow": {
     "slide_type": "-"
    }
   },
   "outputs": [
    {
     "name": "stdout",
     "output_type": "stream",
     "text": [
      "a=array([0, 1, 2, 3])\n",
      "a.dtype=dtype('int64')\n",
      "a.size=4\n",
      "a.itemsize=8\n"
     ]
    }
   ],
   "source": [
    "a = np.array([0, 1, 2, 3])\n",
    "print(f'{a=}')\n",
    "print(f'{a.dtype=}')\n",
    "print(f'{a.size=}')\n",
    "print(f'{a.itemsize=}')"
   ]
  },
  {
   "cell_type": "code",
   "execution_count": 6,
   "id": "d0f4a281-08c1-4dab-a784-b553835b8647",
   "metadata": {
    "slideshow": {
     "slide_type": "-"
    }
   },
   "outputs": [
    {
     "name": "stdout",
     "output_type": "stream",
     "text": [
      "b=array([0. , 1.1, 2.2, 3.3])\n",
      "b.dtype=dtype('float64')\n",
      "b.size=4\n",
      "b.itemsize=8\n"
     ]
    }
   ],
   "source": [
    "b = np.array([0.0, 1.1, 2.2, 3.3])\n",
    "print(f'{b=}')\n",
    "print(f'{b.dtype=}')\n",
    "print(f'{b.size=}')\n",
    "print(f'{b.itemsize=}')"
   ]
  },
  {
   "cell_type": "markdown",
   "id": "0cb24268",
   "metadata": {
    "slideshow": {
     "slide_type": "subslide"
    }
   },
   "source": [
    "Mixed List and Fixed Type"
   ]
  },
  {
   "cell_type": "code",
   "execution_count": 7,
   "id": "439d7177",
   "metadata": {
    "slideshow": {
     "slide_type": "-"
    }
   },
   "outputs": [
    {
     "name": "stdout",
     "output_type": "stream",
     "text": [
      "a=array([0. , 1. , 2.2, 3.3])\n",
      "a.dtype=dtype('float64')\n",
      "a.size=4\n",
      "a.itemsize=8\n"
     ]
    }
   ],
   "source": [
    "a = np.array([0, 1, 2.2, 3.3])\n",
    "print(f'{a=}')\n",
    "print(f'{a.dtype=}')\n",
    "print(f'{a.size=}')\n",
    "print(f'{a.itemsize=}')"
   ]
  },
  {
   "cell_type": "code",
   "execution_count": 8,
   "id": "0e85392e",
   "metadata": {
    "slideshow": {
     "slide_type": "-"
    }
   },
   "outputs": [
    {
     "name": "stdout",
     "output_type": "stream",
     "text": [
      "b=array([0, 1, 2, 3], dtype=int8)\n",
      "b.dtype=dtype('int8')\n",
      "b.size=4\n",
      "b.itemsize=1\n"
     ]
    }
   ],
   "source": [
    "b = np.array([0, 1, 2.2, 3.3], dtype=np.int8)\n",
    "print(f'{b=}')\n",
    "print(f'{b.dtype=}')\n",
    "print(f'{b.size=}')\n",
    "print(f'{b.itemsize=}')"
   ]
  },
  {
   "cell_type": "markdown",
   "id": "c04d5be7",
   "metadata": {
    "slideshow": {
     "slide_type": "subslide"
    }
   },
   "source": [
    "Range & linspace"
   ]
  },
  {
   "cell_type": "code",
   "execution_count": 9,
   "id": "deeb6950",
   "metadata": {
    "slideshow": {
     "slide_type": "-"
    }
   },
   "outputs": [
    {
     "data": {
      "text/plain": [
       "array([2.05, 2.15, 2.25, 2.35, 2.45])"
      ]
     },
     "execution_count": 9,
     "metadata": {},
     "output_type": "execute_result"
    }
   ],
   "source": [
    "np.arange(2.05, 2.5, 0.1)"
   ]
  },
  {
   "cell_type": "code",
   "execution_count": 10,
   "id": "e3e2fec4",
   "metadata": {
    "slideshow": {
     "slide_type": "-"
    }
   },
   "outputs": [
    {
     "data": {
      "text/plain": [
       "array([2.05  , 2.1625, 2.275 , 2.3875, 2.5   ])"
      ]
     },
     "execution_count": 10,
     "metadata": {},
     "output_type": "execute_result"
    }
   ],
   "source": [
    "np.linspace(2.05, 2.5, 5)"
   ]
  },
  {
   "cell_type": "markdown",
   "id": "f4521396",
   "metadata": {
    "slideshow": {
     "slide_type": "subslide"
    }
   },
   "source": [
    "2D Arrays: eye, diag, vander\n",
    "\n",
    "nD Arrays: zeros, ones, random.rand, fromfunction, ..."
   ]
  },
  {
   "cell_type": "code",
   "execution_count": 11,
   "id": "4179730b",
   "metadata": {},
   "outputs": [
    {
     "data": {
      "text/plain": [
       "array([[0., 0., 0.],\n",
       "       [0., 0., 0.],\n",
       "       [0., 0., 0.]])"
      ]
     },
     "execution_count": 11,
     "metadata": {},
     "output_type": "execute_result"
    }
   ],
   "source": [
    "np.zeros((3,3))"
   ]
  },
  {
   "cell_type": "code",
   "execution_count": 12,
   "id": "18c9a27f",
   "metadata": {},
   "outputs": [
    {
     "data": {
      "text/plain": [
       "array([[1., 1., 1.],\n",
       "       [1., 1., 1.],\n",
       "       [1., 1., 1.]])"
      ]
     },
     "execution_count": 12,
     "metadata": {},
     "output_type": "execute_result"
    }
   ],
   "source": [
    "np.ones((3,3))"
   ]
  },
  {
   "cell_type": "code",
   "execution_count": 13,
   "id": "b859e18e",
   "metadata": {},
   "outputs": [
    {
     "data": {
      "text/plain": [
       "array([[0, 1, 2],\n",
       "       [3, 4, 5],\n",
       "       [6, 7, 8]])"
      ]
     },
     "execution_count": 13,
     "metadata": {},
     "output_type": "execute_result"
    }
   ],
   "source": [
    "np.arange(9).reshape(3,3)"
   ]
  },
  {
   "cell_type": "code",
   "execution_count": 14,
   "id": "9299903d",
   "metadata": {},
   "outputs": [
    {
     "data": {
      "text/plain": [
       "(3, 3)"
      ]
     },
     "execution_count": 14,
     "metadata": {},
     "output_type": "execute_result"
    }
   ],
   "source": [
    "np.arange(9).reshape(3,3).shape"
   ]
  },
  {
   "cell_type": "markdown",
   "id": "075dd297",
   "metadata": {
    "slideshow": {
     "slide_type": "slide"
    }
   },
   "source": [
    "## Array handling\n",
    "### Indexing, slicing, masks, views, ...\n",
    "- [Slicing and Indexing](https://numpy.org/doc/stable/reference/arrays.indexing.html#basic-slicing-and-indexing)"
   ]
  },
  {
   "cell_type": "markdown",
   "id": "dbb6e37a",
   "metadata": {
    "slideshow": {
     "slide_type": "subslide"
    }
   },
   "source": [
    "### Indexing"
   ]
  },
  {
   "cell_type": "markdown",
   "id": "c5f76df9",
   "metadata": {
    "slideshow": {
     "slide_type": "-"
    }
   },
   "source": [
    "Indexing behaves like one would expect. Use negative numbers to access the array from opposite direction."
   ]
  },
  {
   "cell_type": "code",
   "execution_count": 15,
   "id": "6a3cd870",
   "metadata": {},
   "outputs": [
    {
     "data": {
      "text/plain": [
       "array([[0, 1, 2],\n",
       "       [3, 4, 5],\n",
       "       [6, 7, 8]])"
      ]
     },
     "execution_count": 15,
     "metadata": {},
     "output_type": "execute_result"
    }
   ],
   "source": [
    "a = np.arange(9).reshape(3,3)\n",
    "a"
   ]
  },
  {
   "cell_type": "code",
   "execution_count": 16,
   "id": "5560d67c",
   "metadata": {},
   "outputs": [
    {
     "data": {
      "text/plain": [
       "0"
      ]
     },
     "execution_count": 16,
     "metadata": {},
     "output_type": "execute_result"
    }
   ],
   "source": [
    "a[0,0]  # first element"
   ]
  },
  {
   "cell_type": "code",
   "execution_count": 17,
   "id": "cfc070c1",
   "metadata": {},
   "outputs": [
    {
     "data": {
      "text/plain": [
       "8"
      ]
     },
     "execution_count": 17,
     "metadata": {},
     "output_type": "execute_result"
    }
   ],
   "source": [
    "a[-1,-1]  # last element"
   ]
  },
  {
   "cell_type": "code",
   "execution_count": 18,
   "id": "b9862019",
   "metadata": {},
   "outputs": [
    {
     "data": {
      "text/plain": [
       "True"
      ]
     },
     "execution_count": 18,
     "metadata": {},
     "output_type": "execute_result"
    }
   ],
   "source": [
    "a[1,1] == a[-2,-2]"
   ]
  },
  {
   "cell_type": "markdown",
   "id": "018c4b03",
   "metadata": {
    "slideshow": {
     "slide_type": "subslide"
    }
   },
   "source": [
    "### [Slicing](http://scipy-lectures.org/_images/numpy_indexing.png)"
   ]
  },
  {
   "cell_type": "markdown",
   "id": "71db57dc",
   "metadata": {
    "slideshow": {
     "slide_type": "-"
    }
   },
   "source": [
    "Slicing is one of the most used feature of numpy. It is used for selecting specific ranges and computation which cannot be done with provided functions."
   ]
  },
  {
   "cell_type": "code",
   "execution_count": 19,
   "id": "dde422c4",
   "metadata": {},
   "outputs": [
    {
     "data": {
      "text/plain": [
       "array([[0, 1, 2],\n",
       "       [3, 4, 5],\n",
       "       [6, 7, 8]])"
      ]
     },
     "execution_count": 19,
     "metadata": {},
     "output_type": "execute_result"
    }
   ],
   "source": [
    "a"
   ]
  },
  {
   "cell_type": "code",
   "execution_count": 20,
   "id": "6fd2852b-5e92-4c71-be88-39591eba9675",
   "metadata": {},
   "outputs": [
    {
     "data": {
      "text/plain": [
       "array([[4, 5],\n",
       "       [7, 8]])"
      ]
     },
     "execution_count": 20,
     "metadata": {},
     "output_type": "execute_result"
    }
   ],
   "source": [
    "a[1:,1:]"
   ]
  },
  {
   "cell_type": "code",
   "execution_count": 21,
   "id": "30fe2c59-83ca-4831-adbe-7174358d6f5b",
   "metadata": {},
   "outputs": [
    {
     "data": {
      "text/plain": [
       "array([[0],\n",
       "       [3],\n",
       "       [6]])"
      ]
     },
     "execution_count": 21,
     "metadata": {},
     "output_type": "execute_result"
    }
   ],
   "source": [
    "a[:, :1]"
   ]
  },
  {
   "cell_type": "code",
   "execution_count": 22,
   "id": "b22a9d82",
   "metadata": {},
   "outputs": [
    {
     "data": {
      "text/plain": [
       "array([0, 1, 2])"
      ]
     },
     "execution_count": 22,
     "metadata": {},
     "output_type": "execute_result"
    }
   ],
   "source": [
    "a[0]"
   ]
  },
  {
   "cell_type": "code",
   "execution_count": 23,
   "id": "dbddb9c7-582c-4d2b-b0a1-382a137adced",
   "metadata": {},
   "outputs": [
    {
     "data": {
      "text/plain": [
       "array([[1],\n",
       "       [7]])"
      ]
     },
     "execution_count": 23,
     "metadata": {},
     "output_type": "execute_result"
    }
   ],
   "source": [
    "a[::2, 1::2]"
   ]
  },
  {
   "cell_type": "markdown",
   "id": "d00cfcde",
   "metadata": {
    "slideshow": {
     "slide_type": "subslide"
    }
   },
   "source": [
    "### Index Array"
   ]
  },
  {
   "cell_type": "markdown",
   "id": "059aa507",
   "metadata": {
    "slideshow": {
     "slide_type": "-"
    }
   },
   "source": [
    "Indexing an array with another array is usefull for more complex operations, where an algorithm determines, which indexes are affected"
   ]
  },
  {
   "cell_type": "code",
   "execution_count": 24,
   "id": "11be742a",
   "metadata": {},
   "outputs": [
    {
     "data": {
      "text/plain": [
       "array([[0, 1, 2],\n",
       "       [3, 4, 5],\n",
       "       [6, 7, 8]])"
      ]
     },
     "execution_count": 24,
     "metadata": {},
     "output_type": "execute_result"
    }
   ],
   "source": [
    "a"
   ]
  },
  {
   "cell_type": "code",
   "execution_count": 25,
   "id": "6cbbe2e8",
   "metadata": {},
   "outputs": [
    {
     "data": {
      "text/plain": [
       "array([[1, 7]])"
      ]
     },
     "execution_count": 25,
     "metadata": {},
     "output_type": "execute_result"
    }
   ],
   "source": [
    "a[np.array([[0, 2]]), np.array([[1, 1]])]"
   ]
  },
  {
   "cell_type": "markdown",
   "id": "dce227d2",
   "metadata": {
    "slideshow": {
     "slide_type": "subslide"
    }
   },
   "source": [
    "## Mask"
   ]
  },
  {
   "cell_type": "markdown",
   "id": "3c317442",
   "metadata": {
    "slideshow": {
     "slide_type": "-"
    }
   },
   "source": [
    "With a boolean operation we can also create masks of arrays."
   ]
  },
  {
   "cell_type": "code",
   "execution_count": 26,
   "id": "3915b523",
   "metadata": {},
   "outputs": [
    {
     "data": {
      "text/plain": [
       "array([[False, False, False],\n",
       "       [False, False, False],\n",
       "       [ True,  True,  True]])"
      ]
     },
     "execution_count": 26,
     "metadata": {},
     "output_type": "execute_result"
    }
   ],
   "source": [
    "a > 5"
   ]
  },
  {
   "cell_type": "code",
   "execution_count": 27,
   "id": "e9f0d5ad",
   "metadata": {},
   "outputs": [
    {
     "data": {
      "text/plain": [
       "array([6, 7, 8])"
      ]
     },
     "execution_count": 27,
     "metadata": {},
     "output_type": "execute_result"
    }
   ],
   "source": [
    "a[a>5]"
   ]
  },
  {
   "cell_type": "markdown",
   "id": "2d92b79c",
   "metadata": {
    "slideshow": {
     "slide_type": "subslide"
    }
   },
   "source": [
    "### Newaxis"
   ]
  },
  {
   "cell_type": "code",
   "execution_count": 28,
   "id": "328c5878",
   "metadata": {},
   "outputs": [
    {
     "data": {
      "text/plain": [
       "array([1, 2, 3])"
      ]
     },
     "execution_count": 28,
     "metadata": {},
     "output_type": "execute_result"
    }
   ],
   "source": [
    "b = np.array([1,2,3])\n",
    "b"
   ]
  },
  {
   "cell_type": "code",
   "execution_count": 29,
   "id": "3c6038da",
   "metadata": {},
   "outputs": [
    {
     "data": {
      "text/plain": [
       "array([[1],\n",
       "       [2],\n",
       "       [3]])"
      ]
     },
     "execution_count": 29,
     "metadata": {},
     "output_type": "execute_result"
    }
   ],
   "source": [
    "b[:, np.newaxis]"
   ]
  },
  {
   "cell_type": "markdown",
   "id": "489b6b7f",
   "metadata": {
    "slideshow": {
     "slide_type": "subslide"
    }
   },
   "source": [
    "## Ellipsis"
   ]
  },
  {
   "cell_type": "markdown",
   "id": "8e0c1e02",
   "metadata": {
    "slideshow": {
     "slide_type": "-"
    }
   },
   "source": [
    "Ellipsis is an Python object, which numpy uses as a place holder for as many \":\" as needed"
   ]
  },
  {
   "cell_type": "code",
   "execution_count": 30,
   "id": "0b877195",
   "metadata": {},
   "outputs": [],
   "source": [
    "c = np.arange(81).reshape(3,3,3,3)"
   ]
  },
  {
   "cell_type": "code",
   "execution_count": 31,
   "id": "06f36305",
   "metadata": {},
   "outputs": [
    {
     "data": {
      "text/plain": [
       "array([[ 0,  9, 18],\n",
       "       [27, 36, 45],\n",
       "       [54, 63, 72]])"
      ]
     },
     "execution_count": 31,
     "metadata": {},
     "output_type": "execute_result"
    }
   ],
   "source": [
    "c[...,0,0]"
   ]
  },
  {
   "cell_type": "code",
   "execution_count": 32,
   "id": "a3cac7a3",
   "metadata": {},
   "outputs": [
    {
     "data": {
      "text/plain": [
       "True"
      ]
     },
     "execution_count": 32,
     "metadata": {},
     "output_type": "execute_result"
    }
   ],
   "source": [
    "np.all(c[..., 0, 0] == c[:, :, 0, 0])"
   ]
  },
  {
   "cell_type": "markdown",
   "id": "e720b9e5",
   "metadata": {
    "slideshow": {
     "slide_type": "slide"
    }
   },
   "source": [
    "## Views"
   ]
  },
  {
   "cell_type": "markdown",
   "id": "b904b034",
   "metadata": {
    "slideshow": {
     "slide_type": "-"
    }
   },
   "source": [
    "Slicing and transposition (usually) creates a view. Views however don't copy the underlying content."
   ]
  },
  {
   "cell_type": "code",
   "execution_count": 33,
   "id": "3e783fb2",
   "metadata": {},
   "outputs": [
    {
     "data": {
      "text/plain": [
       "array([[0., 0., 0.],\n",
       "       [0., 0., 0.],\n",
       "       [0., 0., 0.]])"
      ]
     },
     "execution_count": 33,
     "metadata": {},
     "output_type": "execute_result"
    }
   ],
   "source": [
    "a = np.zeros((3,3))\n",
    "a"
   ]
  },
  {
   "cell_type": "code",
   "execution_count": 34,
   "id": "7974cb65",
   "metadata": {},
   "outputs": [
    {
     "data": {
      "text/plain": [
       "array([[0., 0.],\n",
       "       [0., 0.]])"
      ]
     },
     "execution_count": 34,
     "metadata": {},
     "output_type": "execute_result"
    }
   ],
   "source": [
    "b = a[:2,:2]\n",
    "b"
   ]
  },
  {
   "cell_type": "code",
   "execution_count": 35,
   "id": "99d65402",
   "metadata": {},
   "outputs": [
    {
     "data": {
      "text/plain": [
       "array([[1., 0.],\n",
       "       [0., 0.]])"
      ]
     },
     "execution_count": 35,
     "metadata": {},
     "output_type": "execute_result"
    }
   ],
   "source": [
    "b[0,0] = 1.  # Changes a as well!!!\n",
    "b"
   ]
  },
  {
   "cell_type": "code",
   "execution_count": 36,
   "id": "9b48696e",
   "metadata": {},
   "outputs": [
    {
     "data": {
      "text/plain": [
       "array([[1., 0., 0.],\n",
       "       [0., 0., 0.],\n",
       "       [0., 0., 0.]])"
      ]
     },
     "execution_count": 36,
     "metadata": {},
     "output_type": "execute_result"
    }
   ],
   "source": [
    "a"
   ]
  },
  {
   "cell_type": "code",
   "execution_count": 37,
   "id": "51e17094",
   "metadata": {},
   "outputs": [
    {
     "data": {
      "text/plain": [
       "array([[ 1.,  0.,  0.],\n",
       "       [ 0.,  0., 42.],\n",
       "       [ 0.,  0.,  0.]])"
      ]
     },
     "execution_count": 37,
     "metadata": {},
     "output_type": "execute_result"
    }
   ],
   "source": [
    "a.T[2,1] = 42  # Changes a as well!!!\n",
    "a"
   ]
  },
  {
   "cell_type": "markdown",
   "id": "4e126683",
   "metadata": {
    "slideshow": {
     "slide_type": "subslide"
    }
   },
   "source": [
    "## Array copying"
   ]
  },
  {
   "cell_type": "code",
   "execution_count": 38,
   "id": "e619494c",
   "metadata": {},
   "outputs": [
    {
     "data": {
      "text/plain": [
       "array([[0., 0., 0.],\n",
       "       [0., 0., 0.],\n",
       "       [0., 0., 0.]])"
      ]
     },
     "execution_count": 38,
     "metadata": {},
     "output_type": "execute_result"
    }
   ],
   "source": [
    "a = np.zeros((3,3))\n",
    "b = a.copy()\n",
    "b[0,0] = 42\n",
    "a"
   ]
  },
  {
   "cell_type": "code",
   "execution_count": 39,
   "id": "458c0088",
   "metadata": {},
   "outputs": [
    {
     "data": {
      "text/plain": [
       "array([[0., 0., 0.],\n",
       "       [0., 0., 0.],\n",
       "       [0., 0., 0.]])"
      ]
     },
     "execution_count": 39,
     "metadata": {},
     "output_type": "execute_result"
    }
   ],
   "source": [
    "b = np.copy(a)\n",
    "b[0,0] = 42\n",
    "a"
   ]
  },
  {
   "cell_type": "markdown",
   "id": "17096a94",
   "metadata": {
    "slideshow": {
     "slide_type": "slide"
    }
   },
   "source": [
    "## Numerical operations\n",
    "### Matrix Multiplication"
   ]
  },
  {
   "cell_type": "code",
   "execution_count": 40,
   "id": "b603c308",
   "metadata": {},
   "outputs": [
    {
     "data": {
      "text/plain": [
       "array([[3., 3., 3.],\n",
       "       [3., 3., 3.],\n",
       "       [3., 3., 3.]])"
      ]
     },
     "execution_count": 40,
     "metadata": {},
     "output_type": "execute_result"
    }
   ],
   "source": [
    "a = np.ones((3,3))\n",
    "b = np.ones((3,3))\n",
    "np.dot(a,b)"
   ]
  },
  {
   "cell_type": "code",
   "execution_count": 41,
   "id": "4c0b69c8",
   "metadata": {},
   "outputs": [
    {
     "data": {
      "text/plain": [
       "array([[3., 3., 3.],\n",
       "       [3., 3., 3.],\n",
       "       [3., 3., 3.]])"
      ]
     },
     "execution_count": 41,
     "metadata": {},
     "output_type": "execute_result"
    }
   ],
   "source": [
    "a @ b"
   ]
  },
  {
   "cell_type": "code",
   "execution_count": 42,
   "id": "556df2d9",
   "metadata": {},
   "outputs": [
    {
     "data": {
      "text/plain": [
       "array([[1., 1., 1.],\n",
       "       [1., 1., 1.],\n",
       "       [1., 1., 1.]])"
      ]
     },
     "execution_count": 42,
     "metadata": {},
     "output_type": "execute_result"
    }
   ],
   "source": [
    "a * b  # !!! This is an elementwise multiplication"
   ]
  },
  {
   "cell_type": "code",
   "execution_count": 43,
   "id": "b25ce01f",
   "metadata": {},
   "outputs": [
    {
     "data": {
      "text/plain": [
       "array([[0.54030231, 0.54030231, 0.54030231],\n",
       "       [0.54030231, 0.54030231, 0.54030231],\n",
       "       [0.54030231, 0.54030231, 0.54030231]])"
      ]
     },
     "execution_count": 43,
     "metadata": {},
     "output_type": "execute_result"
    }
   ],
   "source": [
    "np.cos(a)"
   ]
  },
  {
   "cell_type": "markdown",
   "id": "2ce9cfae",
   "metadata": {
    "slideshow": {
     "slide_type": "subslide"
    }
   },
   "source": [
    "## Functions\n",
    "`numpy` provides all kinds of functions!\n",
    "\n",
    "Instead of implementing your own, which is potentionally wrong, use your time to read the documentation.\n",
    "\n",
    "**RTFM**"
   ]
  },
  {
   "cell_type": "markdown",
   "id": "180c8aae",
   "metadata": {
    "slideshow": {
     "slide_type": "subslide"
    }
   },
   "source": [
    "## Reductions"
   ]
  },
  {
   "cell_type": "code",
   "execution_count": 44,
   "id": "acc26077",
   "metadata": {},
   "outputs": [
    {
     "data": {
      "text/plain": [
       "36"
      ]
     },
     "execution_count": 44,
     "metadata": {},
     "output_type": "execute_result"
    }
   ],
   "source": [
    "a = np.arange(9).reshape(3,3)\n",
    "a.sum()"
   ]
  },
  {
   "cell_type": "code",
   "execution_count": 45,
   "id": "ecf25d01",
   "metadata": {},
   "outputs": [
    {
     "data": {
      "text/plain": [
       "8"
      ]
     },
     "execution_count": 45,
     "metadata": {},
     "output_type": "execute_result"
    }
   ],
   "source": [
    "a.max()"
   ]
  },
  {
   "cell_type": "code",
   "execution_count": 46,
   "id": "d7ed5db1",
   "metadata": {
    "scrolled": true
   },
   "outputs": [
    {
     "data": {
      "text/plain": [
       "True"
      ]
     },
     "execution_count": 46,
     "metadata": {},
     "output_type": "execute_result"
    }
   ],
   "source": [
    "np.any(np.array([True, True, False]))"
   ]
  },
  {
   "cell_type": "code",
   "execution_count": 47,
   "id": "092d4e34",
   "metadata": {},
   "outputs": [
    {
     "data": {
      "text/plain": [
       "4.0"
      ]
     },
     "execution_count": 47,
     "metadata": {},
     "output_type": "execute_result"
    }
   ],
   "source": [
    "np.median(a)"
   ]
  },
  {
   "cell_type": "markdown",
   "id": "6d7209f8",
   "metadata": {
    "slideshow": {
     "slide_type": "subslide"
    }
   },
   "source": [
    "## Comparison"
   ]
  },
  {
   "cell_type": "code",
   "execution_count": 48,
   "id": "db1ff9f2",
   "metadata": {},
   "outputs": [
    {
     "data": {
      "text/plain": [
       "array([[ True,  True,  True],\n",
       "       [ True,  True,  True],\n",
       "       [ True,  True,  True]])"
      ]
     },
     "execution_count": 48,
     "metadata": {},
     "output_type": "execute_result"
    }
   ],
   "source": [
    "a = np.ones((3,3))\n",
    "a == a"
   ]
  },
  {
   "cell_type": "code",
   "execution_count": 49,
   "id": "29c89c8a",
   "metadata": {
    "scrolled": true
   },
   "outputs": [
    {
     "data": {
      "text/plain": [
       "True"
      ]
     },
     "execution_count": 49,
     "metadata": {},
     "output_type": "execute_result"
    }
   ],
   "source": [
    "np.array_equal(a, a)"
   ]
  },
  {
   "cell_type": "code",
   "execution_count": 50,
   "id": "a3449431",
   "metadata": {},
   "outputs": [
    {
     "data": {
      "text/plain": [
       "True"
      ]
     },
     "execution_count": 50,
     "metadata": {},
     "output_type": "execute_result"
    }
   ],
   "source": [
    "np.all(a == a)"
   ]
  },
  {
   "cell_type": "markdown",
   "id": "3baf145f",
   "metadata": {
    "slideshow": {
     "slide_type": "slide"
    }
   },
   "source": [
    "Use `np.allclose` for comparing floating point numbers!"
   ]
  },
  {
   "cell_type": "code",
   "execution_count": 51,
   "id": "90e4f5e6",
   "metadata": {
    "slideshow": {
     "slide_type": "-"
    }
   },
   "outputs": [
    {
     "data": {
      "text/plain": [
       "True"
      ]
     },
     "execution_count": 51,
     "metadata": {},
     "output_type": "execute_result"
    }
   ],
   "source": [
    "np.allclose(np.ones((3,3)), np.ones((3,3)))"
   ]
  },
  {
   "cell_type": "markdown",
   "id": "13c5a295",
   "metadata": {
    "slideshow": {
     "slide_type": "-"
    }
   },
   "source": [
    "There are more comparison functions like `np.logical_and`."
   ]
  },
  {
   "cell_type": "markdown",
   "id": "a22ac625",
   "metadata": {
    "slideshow": {
     "slide_type": "subslide"
    }
   },
   "source": [
    "## Broadcasts\n",
    "Operations on arrays are generally elementwise. However, on arrays of different dimensions the operation broadcasts the array"
   ]
  },
  {
   "cell_type": "code",
   "execution_count": 52,
   "id": "967a5727",
   "metadata": {},
   "outputs": [
    {
     "data": {
      "text/plain": [
       "array([[2., 2., 2.],\n",
       "       [2., 2., 2.],\n",
       "       [2., 2., 2.]])"
      ]
     },
     "execution_count": 52,
     "metadata": {},
     "output_type": "execute_result"
    }
   ],
   "source": [
    "a = np.ones((3,3))\n",
    "a + a"
   ]
  },
  {
   "cell_type": "code",
   "execution_count": 53,
   "id": "de74335d",
   "metadata": {},
   "outputs": [
    {
     "data": {
      "text/plain": [
       "array([0, 1, 2])"
      ]
     },
     "execution_count": 53,
     "metadata": {},
     "output_type": "execute_result"
    }
   ],
   "source": [
    "b = np.arange(3)\n",
    "b"
   ]
  },
  {
   "cell_type": "code",
   "execution_count": 54,
   "id": "d5c3b2b9",
   "metadata": {},
   "outputs": [
    {
     "data": {
      "text/plain": [
       "array([[1., 2., 3.],\n",
       "       [1., 2., 3.],\n",
       "       [1., 2., 3.]])"
      ]
     },
     "execution_count": 54,
     "metadata": {},
     "output_type": "execute_result"
    }
   ],
   "source": [
    "a + b"
   ]
  },
  {
   "cell_type": "code",
   "execution_count": 55,
   "id": "f02334da",
   "metadata": {},
   "outputs": [
    {
     "data": {
      "text/plain": [
       "array([[0],\n",
       "       [1],\n",
       "       [2]])"
      ]
     },
     "execution_count": 55,
     "metadata": {},
     "output_type": "execute_result"
    }
   ],
   "source": [
    "b[:, np.newaxis]"
   ]
  },
  {
   "cell_type": "code",
   "execution_count": 56,
   "id": "1beed91d",
   "metadata": {},
   "outputs": [
    {
     "data": {
      "text/plain": [
       "array([[0, 1, 2],\n",
       "       [1, 2, 3],\n",
       "       [2, 3, 4]])"
      ]
     },
     "execution_count": 56,
     "metadata": {},
     "output_type": "execute_result"
    }
   ],
   "source": [
    "b + b[:, np.newaxis]"
   ]
  },
  {
   "cell_type": "markdown",
   "id": "93d8f4a2",
   "metadata": {
    "slideshow": {
     "slide_type": "slide"
    }
   },
   "source": [
    "## Showcase"
   ]
  },
  {
   "cell_type": "code",
   "execution_count": 57,
   "id": "827c3f01",
   "metadata": {},
   "outputs": [
    {
     "data": {
      "text/plain": [
       "<matplotlib.image.AxesImage at 0x7f809e6fb340>"
      ]
     },
     "execution_count": 57,
     "metadata": {},
     "output_type": "execute_result"
    },
    {
     "data": {
      "image/png": "[encoded data removed]",
      "text/plain": [
       "<Figure size 432x288 with 1 Axes>"
      ]
     },
     "metadata": {
      "needs_background": "light"
     },
     "output_type": "display_data"
    }
   ],
   "source": [
    "%matplotlib inline\n",
    "import matplotlib.pyplot as plt\n",
    "from scipy import misc\n",
    "face = misc.face(gray=True).astype('int64')\n",
    "plt.imshow(face, cmap=plt.cm.gray)"
   ]
  },
  {
   "cell_type": "code",
   "execution_count": 58,
   "id": "1f30047e",
   "metadata": {},
   "outputs": [
    {
     "data": {
      "text/plain": [
       "array([[114, 130, 145, ..., 119, 129, 137],\n",
       "       [ 83, 104, 123, ..., 118, 134, 146],\n",
       "       [ 68,  88, 109, ..., 119, 134, 145],\n",
       "       ...,\n",
       "       [ 98, 103, 116, ..., 144, 143, 143],\n",
       "       [ 94, 104, 120, ..., 143, 142, 142],\n",
       "       [ 94, 106, 119, ..., 142, 141, 140]])"
      ]
     },
     "execution_count": 58,
     "metadata": {},
     "output_type": "execute_result"
    }
   ],
   "source": [
    "face"
   ]
  },
  {
   "cell_type": "code",
   "execution_count": 59,
   "id": "f8b2fadb",
   "metadata": {
    "slideshow": {
     "slide_type": "subslide"
    }
   },
   "outputs": [],
   "source": [
    "blurred_face = face.copy()\n",
    "# This is a showcase. Use `gaussian_filter` or `numpy.convolve` instead\n",
    "for _ in range(5):\n",
    "    blurred_face[1:-1, 1:-1] = (face[0:-2, 1:-1] + face[1:-1, 0:-2] + face[2:, 1:-1] + face[1:-1, 2:])/4\n",
    "    face, blurred_face = blurred_face, face"
   ]
  },
  {
   "cell_type": "code",
   "execution_count": 60,
   "id": "53b3e15f",
   "metadata": {
    "slideshow": {
     "slide_type": "fragment"
    }
   },
   "outputs": [
    {
     "data": {
      "text/plain": [
       "<matplotlib.image.AxesImage at 0x7f809cdf6d30>"
      ]
     },
     "execution_count": 60,
     "metadata": {},
     "output_type": "execute_result"
    },
    {
     "data": {
      "image/png": "[encoded data removed]",
      "text/plain": [
       "<Figure size 432x288 with 1 Axes>"
      ]
     },
     "metadata": {
      "needs_background": "light"
     },
     "output_type": "display_data"
    }
   ],
   "source": [
    "plt.imshow(blurred_face, cmap=plt.cm.gray)"
   ]
  },
  {
   "cell_type": "markdown",
   "id": "ac0a9d36",
   "metadata": {
    "slideshow": {
     "slide_type": "subslide"
    }
   },
   "source": [
    "## Iteration\n",
    "Use slicing and broadcasting. [Iterating](https://numpy.org/doc/stable/reference/arrays.nditer.html) over an array is slow, because we use the Python interpreter!"
   ]
  },
  {
   "cell_type": "code",
   "execution_count": 61,
   "id": "c9fced97",
   "metadata": {},
   "outputs": [
    {
     "name": "stdout",
     "output_type": "stream",
     "text": [
      "0 1 2 3 4 5 6 7 8 "
     ]
    }
   ],
   "source": [
    "# wrong!!!\n",
    "a = np.arange(9).reshape(3,3)\n",
    "x_size, y_size = a.shape\n",
    "for i in range(x_size):\n",
    "    for j in range(y_size):\n",
    "        print(a[i,j], end=' ')"
   ]
  },
  {
   "cell_type": "code",
   "execution_count": 85,
   "id": "187dd27f",
   "metadata": {},
   "outputs": [
    {
     "name": "stdout",
     "output_type": "stream",
     "text": [
      "0 3 6 1 4 7 2 5 8 "
     ]
    }
   ],
   "source": [
    "# even more wrong !!!\n",
    "a = np.arange(9).reshape(3,3, order='F')\n",
    "x_size, y_size = a.shape\n",
    "for i in range(x_size):\n",
    "    for j in range(y_size):\n",
    "        print(a[i,j], end=' ')"
   ]
  },
  {
   "cell_type": "code",
   "execution_count": 62,
   "id": "2ef34427",
   "metadata": {},
   "outputs": [
    {
     "name": "stdout",
     "output_type": "stream",
     "text": [
      "0 1 2 3 4 5 6 7 8 "
     ]
    }
   ],
   "source": [
    "# Not great not terrible\n",
    "for x in np.nditer(a):\n",
    "    print(x, end=' ')"
   ]
  },
  {
   "cell_type": "markdown",
   "id": "d873fcaf",
   "metadata": {
    "slideshow": {
     "slide_type": "slide"
    }
   },
   "source": [
    "## Numpy's Pitfalls\n",
    "\n",
    "(only a few examples)"
   ]
  },
  {
   "cell_type": "markdown",
   "id": "4b7a81bb",
   "metadata": {
    "slideshow": {
     "slide_type": "-"
    }
   },
   "source": [
    "## Types\n",
    "Numpy uses C-Style types, and **almost** C-Style casts/promotion"
   ]
  },
  {
   "cell_type": "code",
   "execution_count": 63,
   "id": "bfe5f734",
   "metadata": {},
   "outputs": [
    {
     "data": {
      "text/plain": [
       "dtype('int64')"
      ]
     },
     "execution_count": 63,
     "metadata": {},
     "output_type": "execute_result"
    }
   ],
   "source": [
    "np.promote_types(np.int32, np.int64)"
   ]
  },
  {
   "cell_type": "code",
   "execution_count": 64,
   "id": "88227fcb",
   "metadata": {},
   "outputs": [
    {
     "data": {
      "text/plain": [
       "dtype('float64')"
      ]
     },
     "execution_count": 64,
     "metadata": {},
     "output_type": "execute_result"
    }
   ],
   "source": [
    "np.promote_types(np.int32, np.float32)  # In C this should be float32"
   ]
  },
  {
   "cell_type": "markdown",
   "id": "da45222e",
   "metadata": {},
   "source": [
    "`np.arange` returns different data type, depending on the kind of range."
   ]
  },
  {
   "cell_type": "code",
   "execution_count": 65,
   "id": "af51568c",
   "metadata": {},
   "outputs": [
    {
     "data": {
      "text/plain": [
       "dtype('int64')"
      ]
     },
     "execution_count": 65,
     "metadata": {},
     "output_type": "execute_result"
    }
   ],
   "source": [
    "np.arange(0, 10, 2).dtype"
   ]
  },
  {
   "cell_type": "code",
   "execution_count": 66,
   "id": "db83901b",
   "metadata": {},
   "outputs": [
    {
     "data": {
      "text/plain": [
       "dtype('float64')"
      ]
     },
     "execution_count": 66,
     "metadata": {},
     "output_type": "execute_result"
    }
   ],
   "source": [
    "np.arange(0, 10, 2.5).dtype"
   ]
  },
  {
   "cell_type": "markdown",
   "id": "3a7386b7",
   "metadata": {
    "slideshow": {
     "slide_type": "subslide"
    }
   },
   "source": [
    "## Overflow\n",
    "Unlike Python's `int` `numpy`'s int will overflow"
   ]
  },
  {
   "cell_type": "code",
   "execution_count": 67,
   "id": "6304c41c",
   "metadata": {},
   "outputs": [
    {
     "data": {
      "text/plain": [
       "array([0, 0, 0], dtype=int8)"
      ]
     },
     "execution_count": 67,
     "metadata": {},
     "output_type": "execute_result"
    }
   ],
   "source": [
    "a = np.zeros(3, dtype=np.int8)\n",
    "a"
   ]
  },
  {
   "cell_type": "code",
   "execution_count": 68,
   "id": "9dbb6555",
   "metadata": {},
   "outputs": [
    {
     "data": {
      "text/plain": [
       "array([127, 127, 127], dtype=int8)"
      ]
     },
     "execution_count": 68,
     "metadata": {},
     "output_type": "execute_result"
    }
   ],
   "source": [
    "a += 127\n",
    "a"
   ]
  },
  {
   "cell_type": "code",
   "execution_count": 69,
   "id": "28b83793",
   "metadata": {},
   "outputs": [
    {
     "data": {
      "text/plain": [
       "array([-128, -128, -128], dtype=int8)"
      ]
     },
     "execution_count": 69,
     "metadata": {},
     "output_type": "execute_result"
    }
   ],
   "source": [
    "a += 1\n",
    "a"
   ]
  },
  {
   "cell_type": "markdown",
   "id": "7d5fa0cd",
   "metadata": {
    "slideshow": {
     "slide_type": "slide"
    }
   },
   "source": [
    "## Stuff to Avoid\n",
    "\n",
    "NumPy has some cruft left over due to backwards compatibility. There are some edge cases when you would (maybe) use these things (but probably not). In general, avoid them:\n",
    "\n",
    "- np.chararray: use an np.ndarray with unicode dtype\n",
    "- np.MaskedArrays: use a boolean advanced index\n",
    "- np.matrix: use a 2-dimensional np.ndarray"
   ]
  },
  {
   "cell_type": "markdown",
   "id": "56537a45",
   "metadata": {},
   "source": [
    "## Not mentioned\n",
    "- loading data\n",
    "- np.sort, np.unique, np.roll, ...\n",
    "- Array composition and decomposition np.split, np.stack\n",
    "- a lot!"
   ]
  },
  {
   "cell_type": "markdown",
   "id": "9cd54c36",
   "metadata": {
    "slideshow": {
     "slide_type": "slide"
    }
   },
   "source": [
    "# scipy\n",
    "- collection of algorithms and functions build on top of numpy\n",
    "- Special functions (scipy.special)\n",
    "- Integration (scipy.integrate)\n",
    "- Optimization (scipy.optimize)\n",
    "- Interpolation (scipy.interpolate)\n",
    "- Fourier Transforms (scipy.fft)\n",
    "- Signal Processing (scipy.signal)\n",
    "- Linear Algebra (scipy.linalg)\n",
    "- Sparse eigenvalue problems with ARPACK\n",
    "- Compressed Sparse Graph Routines (scipy.sparse.csgraph)\n",
    "- Spatial data structures and algorithms (scipy.spatial)\n",
    "- Statistics (scipy.stats)\n",
    "- Multidimensional image processing (scipy.ndimage)\n",
    "- File IO (scipy.io)\n",
    "\n",
    "TLDR: `numpy` handles the array and some basic stuff. `scipy` has all the linear algebra features."
   ]
  },
  {
   "cell_type": "code",
   "execution_count": 70,
   "id": "88a07e4a",
   "metadata": {
    "slideshow": {
     "slide_type": "slide"
    }
   },
   "outputs": [],
   "source": [
    "from scipy import linalg"
   ]
  },
  {
   "cell_type": "code",
   "execution_count": 71,
   "id": "598da4ec",
   "metadata": {},
   "outputs": [
    {
     "data": {
      "text/plain": [
       "array([[0, 1],\n",
       "       [2, 3]])"
      ]
     },
     "execution_count": 71,
     "metadata": {},
     "output_type": "execute_result"
    }
   ],
   "source": [
    "a = np.arange(4).reshape((2,2))\n",
    "a"
   ]
  },
  {
   "cell_type": "code",
   "execution_count": 72,
   "id": "56ee846f",
   "metadata": {},
   "outputs": [
    {
     "data": {
      "text/plain": [
       "-2.0"
      ]
     },
     "execution_count": 72,
     "metadata": {},
     "output_type": "execute_result"
    }
   ],
   "source": [
    "linalg.det(a)"
   ]
  },
  {
   "cell_type": "code",
   "execution_count": 73,
   "id": "5f0428ad",
   "metadata": {},
   "outputs": [
    {
     "data": {
      "text/plain": [
       "array([[-1.5,  0.5],\n",
       "       [ 1. ,  0. ]])"
      ]
     },
     "execution_count": 73,
     "metadata": {},
     "output_type": "execute_result"
    }
   ],
   "source": [
    "linalg.inv(a)"
   ]
  },
  {
   "cell_type": "code",
   "execution_count": 74,
   "id": "cd965fea",
   "metadata": {},
   "outputs": [
    {
     "data": {
      "text/plain": [
       "(array([[0., 1.],\n",
       "        [1., 0.]]),\n",
       " array([[1., 0.],\n",
       "        [0., 1.]]),\n",
       " array([[2., 3.],\n",
       "        [0., 1.]]))"
      ]
     },
     "execution_count": 74,
     "metadata": {},
     "output_type": "execute_result"
    }
   ],
   "source": [
    "linalg.lu(a)"
   ]
  },
  {
   "cell_type": "markdown",
   "id": "38338961",
   "metadata": {
    "slideshow": {
     "slide_type": "slide"
    }
   },
   "source": [
    "# Behind numpy & scipy\n",
    "`numpy` and `scipy` use `blas` and `lapack`. What kind depends on your installation."
   ]
  },
  {
   "cell_type": "code",
   "execution_count": 82,
   "id": "33e85292",
   "metadata": {
    "slideshow": {
     "slide_type": "subslide"
    }
   },
   "outputs": [
    {
     "name": "stdout",
     "output_type": "stream",
     "text": [
      "blas_mkl_info:\n",
      "  NOT AVAILABLE\n",
      "blis_info:\n",
      "  NOT AVAILABLE\n",
      "openblas_info:\n",
      "    libraries = ['openblas', 'openblas']\n",
      "    library_dirs = ['/usr/local/lib']\n",
      "    language = c\n",
      "    define_macros = [('HAVE_CBLAS', None)]\n",
      "    runtime_library_dirs = ['/usr/local/lib']\n",
      "blas_opt_info:\n",
      "    libraries = ['openblas', 'openblas']\n",
      "    library_dirs = ['/usr/local/lib']\n",
      "    language = c\n",
      "    define_macros = [('HAVE_CBLAS', None)]\n",
      "    runtime_library_dirs = ['/usr/local/lib']\n",
      "lapack_mkl_info:\n",
      "  NOT AVAILABLE\n",
      "openblas_lapack_info:\n",
      "    libraries = ['openblas', 'openblas']\n",
      "    library_dirs = ['/usr/local/lib']\n",
      "    language = c\n",
      "    define_macros = [('HAVE_CBLAS', None)]\n",
      "    runtime_library_dirs = ['/usr/local/lib']\n",
      "lapack_opt_info:\n",
      "    libraries = ['openblas', 'openblas']\n",
      "    library_dirs = ['/usr/local/lib']\n",
      "    language = c\n",
      "    define_macros = [('HAVE_CBLAS', None)]\n",
      "    runtime_library_dirs = ['/usr/local/lib']\n",
      "Supported SIMD extensions in this NumPy install:\n",
      "    baseline = SSE,SSE2,SSE3\n",
      "    found = SSSE3,SSE41,POPCNT,SSE42,AVX,F16C,FMA3,AVX2\n",
      "    not found = AVX512F,AVX512CD,AVX512_KNL,AVX512_KNM,AVX512_SKX,AVX512_CLX,AVX512_CNL,AVX512_ICL\n"
     ]
    }
   ],
   "source": [
    "np.show_config()"
   ]
  },
  {
   "cell_type": "markdown",
   "id": "1690525f",
   "metadata": {
    "slideshow": {
     "slide_type": "subslide"
    }
   },
   "source": [
    "### intel-numpy\n",
    "- Uses intel's Math Kernel Library"
   ]
  },
  {
   "cell_type": "markdown",
   "id": "d95a58f0",
   "metadata": {},
   "source": [
    "### cupy\n",
    "- [Dropin](https://docs.cupy.dev/en/stable/reference/comparison.html) replacement for gpu"
   ]
  },
  {
   "cell_type": "markdown",
   "id": "34250af0",
   "metadata": {
    "slideshow": {
     "slide_type": "slide"
    }
   },
   "source": [
    "# matplotlib\n",
    "Matplotlib is a comprehensive library for creating static, animated, and interactive visualizations in Python. Matplotlib makes easy things easy and hard things possible.\n",
    "\n",
    "[Examples](https://matplotlib.org/stable/plot_types/index.html)"
   ]
  },
  {
   "cell_type": "markdown",
   "id": "23b0e5d8",
   "metadata": {
    "slideshow": {
     "slide_type": "fragment"
    }
   },
   "source": [
    "## alternatives\n",
    "- Seaborn - statistical data visualization\n",
    "- Plotly - interactive, publication-quality graphs\n",
    "- Bokeh - interactive visualizations for modern web browsers\n",
    "- Altair - declarative Visualization"
   ]
  },
  {
   "cell_type": "code",
   "execution_count": 75,
   "id": "ac153a84",
   "metadata": {},
   "outputs": [],
   "source": [
    "%matplotlib inline\n",
    "import matplotlib.pyplot as plt"
   ]
  },
  {
   "cell_type": "markdown",
   "id": "2a68b7ea",
   "metadata": {},
   "source": [
    "## Simple Examples"
   ]
  },
  {
   "cell_type": "code",
   "execution_count": 76,
   "id": "c27c0baa",
   "metadata": {
    "slideshow": {
     "slide_type": "slide"
    }
   },
   "outputs": [
    {
     "data": {
      "image/png": "[encoded data removed]",
      "text/plain": [
       "<Figure size 432x288 with 1 Axes>"
      ]
     },
     "metadata": {
      "needs_background": "light"
     },
     "output_type": "display_data"
    }
   ],
   "source": [
    "plt.plot(np.linspace(1, 4, 10), np.logspace(1, 4, 10))\n",
    "plt.plot(np.linspace(1, 4, 10), np.logspace(1, 4, 10), 'o')\n",
    "plt.show()"
   ]
  },
  {
   "cell_type": "code",
   "execution_count": 77,
   "id": "681ed721",
   "metadata": {
    "slideshow": {
     "slide_type": "subslide"
    }
   },
   "outputs": [
    {
     "data": {
      "image/png": "[encoded data removed]",
      "text/plain": [
       "<Figure size 432x288 with 1 Axes>"
      ]
     },
     "metadata": {
      "needs_background": "light"
     },
     "output_type": "display_data"
    }
   ],
   "source": [
    "plt.imshow(np.random.rand(20,20))\n",
    "plt.show()"
   ]
  },
  {
   "cell_type": "markdown",
   "id": "99d9fafc",
   "metadata": {
    "slideshow": {
     "slide_type": "slide"
    }
   },
   "source": [
    "# Example"
   ]
  },
  {
   "cell_type": "code",
   "execution_count": 78,
   "id": "c1e0662e",
   "metadata": {},
   "outputs": [
    {
     "data": {
      "text/plain": [
       "<matplotlib.image.AxesImage at 0x7f806e52caf0>"
      ]
     },
     "execution_count": 78,
     "metadata": {},
     "output_type": "execute_result"
    },
    {
     "data": {
      "image/png": "[encoded data removed]",
      "text/plain": [
       "<Figure size 432x288 with 1 Axes>"
      ]
     },
     "metadata": {
      "needs_background": "light"
     },
     "output_type": "display_data"
    }
   ],
   "source": [
    "racoon = misc.face(gray=True).astype('float64')\n",
    "plt.imshow(face, cmap=plt.cm.gray)"
   ]
  },
  {
   "cell_type": "code",
   "execution_count": 79,
   "id": "86e75ac2",
   "metadata": {},
   "outputs": [],
   "source": [
    "def compress(picture, k):\n",
    "    u, s, vh = np.linalg.svd(picture)\n",
    "    return u[:,:k], s[:k], vh[:k,:]"
   ]
  },
  {
   "cell_type": "code",
   "execution_count": 80,
   "id": "bccfa179",
   "metadata": {},
   "outputs": [],
   "source": [
    "def from_compressed(u, s, vh):\n",
    "    return u @ np.diag(s) @ vh"
   ]
  },
  {
   "cell_type": "code",
   "execution_count": 81,
   "id": "022d7f6c",
   "metadata": {
    "slideshow": {
     "slide_type": "subslide"
    }
   },
   "outputs": [
    {
     "data": {
      "text/plain": [
       "<matplotlib.image.AxesImage at 0x7f806e495ca0>"
      ]
     },
     "execution_count": 81,
     "metadata": {},
     "output_type": "execute_result"
    },
    {
     "data": {
      "image/png": "[encoded data removed]",
      "text/plain": [
       "<Figure size 432x288 with 1 Axes>"
      ]
     },
     "metadata": {
      "needs_background": "light"
     },
     "output_type": "display_data"
    }
   ],
   "source": [
    "plt.imshow(from_compressed(*compress(racoon, 10)), cmap='gray')"
   ]
  },
  {
   "cell_type": "markdown",
   "id": "ad6c5caa",
   "metadata": {
    "slideshow": {
     "slide_type": "slide"
    }
   },
   "source": [
    "## Further Resources\n",
    "- [Numpy Docs](https://numpy.org/doc/stable/index.html)\n",
    "- [Numpy Reference](https://numpy.org/doc/stable/reference/index.html#reference)\n",
    "- [Scipy Docs](https://scipy.github.io/devdocs/index.html)\n",
    "- [Scipy Lecture Notes](http://scipy-lectures.org/)\n",
    "- [From Python to Numpy/](https://www.labri.fr/perso/nrougier/from-python-to-numpy/)"
   ]
  }
 ],
 "metadata": {
  "celltoolbar": "Slideshow",
  "kernelspec": {
   "display_name": "Python 3",
   "language": "python",
   "name": "python3"
  },
  "language_info": {
   "codemirror_mode": {
    "name": "ipython",
    "version": 3
   },
   "file_extension": ".py",
   "mimetype": "text/x-python",
   "name": "python",
   "nbconvert_exporter": "python",
   "pygments_lexer": "ipython3",
   "version": "3.8.10"
  }
 },
 "nbformat": 4,
 "nbformat_minor": 5
}
