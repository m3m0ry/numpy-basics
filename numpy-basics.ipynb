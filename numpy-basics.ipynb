{
 "cells": [
  {
   "cell_type": "markdown",
   "id": "e0229c91",
   "metadata": {
    "slideshow": {
     "slide_type": "slide"
    }
   },
   "source": [
    "[Numpy Basics](https://github.com/m3m0ry/numpy-basics)"
   ]
  },
  {
   "cell_type": "markdown",
   "id": "702b0a9e-cb7b-4671-b0b9-5affc17ea0ac",
   "metadata": {
    "slideshow": {
     "slide_type": "slide"
    }
   },
   "source": [
    "# numpy - Blas's speed at Python's convenience\n",
    "- THE package for scientific computing\n",
    "- provides fast operatations on multidimensional arrays\n",
    "- basis of many scientific packages: scipy, matplotlib, opencv, tensorflow, ...\n",
    "- drop in replacements: cupy, nclpy, ..."
   ]
  },
  {
   "cell_type": "code",
   "execution_count": 1,
   "id": "9965f329",
   "metadata": {},
   "outputs": [],
   "source": [
    "import numpy as np"
   ]
  },
  {
   "cell_type": "code",
   "execution_count": 15,
   "id": "3902dfd3",
   "metadata": {},
   "outputs": [
    {
     "data": {
      "text/plain": [
       "42"
      ]
     },
     "execution_count": 15,
     "metadata": {},
     "output_type": "execute_result"
    }
   ],
   "source": [
    "# questions"
   ]
  },
  {
   "cell_type": "markdown",
   "id": "fcbd50c5",
   "metadata": {
    "slideshow": {
     "slide_type": "subslide"
    }
   },
   "source": [
    "## Simple speed comparison"
   ]
  },
  {
   "cell_type": "code",
   "execution_count": 3,
   "id": "58d7fff1",
   "metadata": {},
   "outputs": [
    {
     "name": "stdout",
     "output_type": "stream",
     "text": [
      "1.89 ms ± 22.8 µs per loop (mean ± std. dev. of 7 runs, 1000 loops each)\n"
     ]
    }
   ],
   "source": [
    "L = range(10000)\n",
    "%timeit [i**2 for i in L]"
   ]
  },
  {
   "cell_type": "code",
   "execution_count": 4,
   "id": "76c02c3a",
   "metadata": {},
   "outputs": [
    {
     "name": "stdout",
     "output_type": "stream",
     "text": [
      "3.74 µs ± 127 ns per loop (mean ± std. dev. of 7 runs, 100000 loops each)\n"
     ]
    }
   ],
   "source": [
    "a = np.arange(10000)\n",
    "%timeit a**2"
   ]
  },
  {
   "cell_type": "markdown",
   "id": "6e581310",
   "metadata": {
    "slideshow": {
     "slide_type": "slide"
    }
   },
   "source": [
    "## np.ndarray\n",
    "- fixed size\n",
    "- [fixed datatype](https://numpy.org/doc/stable/reference/arrays.scalars.html#arrays-scalars-built-in): (float64, float32, int32, uint64, ...)\n",
    "- [Array Creation](https://numpy.org/doc/stable/user/basics.creation.html)"
   ]
  },
  {
   "cell_type": "markdown",
   "id": "0e2a5bf7",
   "metadata": {
    "slideshow": {
     "slide_type": "subslide"
    }
   },
   "source": [
    "Lists of integers and floats"
   ]
  },
  {
   "cell_type": "code",
   "execution_count": 14,
   "id": "b6dd8114",
   "metadata": {
    "slideshow": {
     "slide_type": "-"
    }
   },
   "outputs": [
    {
     "name": "stdout",
     "output_type": "stream",
     "text": [
      "a=array([0, 1, 2, 3])\n",
      "a.dtype=dtype('int64')\n",
      "a.size=4\n",
      "a.itemsize=8\n"
     ]
    }
   ],
   "source": [
    "a = np.array([0, 1, 2, 3])\n",
    "print(f'{a=}')\n",
    "print(f'{a.dtype=}')\n",
    "print(f'{a.size=}')\n",
    "print(f'{a.itemsize=}')"
   ]
  },
  {
   "cell_type": "code",
   "execution_count": 6,
   "id": "d0f4a281-08c1-4dab-a784-b553835b8647",
   "metadata": {
    "slideshow": {
     "slide_type": "-"
    }
   },
   "outputs": [
    {
     "name": "stdout",
     "output_type": "stream",
     "text": [
      "b=array([0. , 1.1, 2.2, 3.3])\n",
      "b.dtype=dtype('float64')\n",
      "b.size=4\n",
      "b.itemsize=8\n"
     ]
    }
   ],
   "source": [
    "b = np.array([0.0, 1.1, 2.2, 3.3])\n",
    "print(f'{b=}')\n",
    "print(f'{b.dtype=}')\n",
    "print(f'{b.size=}')\n",
    "print(f'{b.itemsize=}')"
   ]
  },
  {
   "cell_type": "markdown",
   "id": "0cb24268",
   "metadata": {
    "slideshow": {
     "slide_type": "subslide"
    }
   },
   "source": [
    "Mixed List and Fixed Type"
   ]
  },
  {
   "cell_type": "code",
   "execution_count": 7,
   "id": "439d7177",
   "metadata": {
    "slideshow": {
     "slide_type": "-"
    }
   },
   "outputs": [
    {
     "name": "stdout",
     "output_type": "stream",
     "text": [
      "a=array([0. , 1. , 2.2, 3.3])\n",
      "a.dtype=dtype('float64')\n",
      "a.size=4\n",
      "a.itemsize=8\n"
     ]
    }
   ],
   "source": [
    "a = np.array([0, 1, 2.2, 3.3])\n",
    "print(f'{a=}')\n",
    "print(f'{a.dtype=}')\n",
    "print(f'{a.size=}')\n",
    "print(f'{a.itemsize=}')"
   ]
  },
  {
   "cell_type": "code",
   "execution_count": 8,
   "id": "0e85392e",
   "metadata": {
    "slideshow": {
     "slide_type": "-"
    }
   },
   "outputs": [
    {
     "name": "stdout",
     "output_type": "stream",
     "text": [
      "b=array([0, 1, 2, 3], dtype=int8)\n",
      "b.dtype=dtype('int8')\n",
      "b.size=4\n",
      "b.itemsize=1\n"
     ]
    }
   ],
   "source": [
    "b = np.array([0, 1, 2.2, 3.3], dtype=np.int8)\n",
    "print(f'{b=}')\n",
    "print(f'{b.dtype=}')\n",
    "print(f'{b.size=}')\n",
    "print(f'{b.itemsize=}')"
   ]
  },
  {
   "cell_type": "markdown",
   "id": "c04d5be7",
   "metadata": {
    "slideshow": {
     "slide_type": "subslide"
    }
   },
   "source": [
    "Range & linspace"
   ]
  },
  {
   "cell_type": "code",
   "execution_count": 23,
   "id": "deeb6950",
   "metadata": {
    "slideshow": {
     "slide_type": "-"
    }
   },
   "outputs": [
    {
     "data": {
      "text/plain": [
       "array([2.05, 2.15, 2.25, 2.35, 2.45])"
      ]
     },
     "execution_count": 23,
     "metadata": {},
     "output_type": "execute_result"
    }
   ],
   "source": [
    "np.arange(2.05, 2.5, 0.1)"
   ]
  },
  {
   "cell_type": "code",
   "execution_count": 24,
   "id": "e3e2fec4",
   "metadata": {
    "slideshow": {
     "slide_type": "-"
    }
   },
   "outputs": [
    {
     "data": {
      "text/plain": [
       "array([2.05  , 2.1625, 2.275 , 2.3875, 2.5   ])"
      ]
     },
     "execution_count": 24,
     "metadata": {},
     "output_type": "execute_result"
    }
   ],
   "source": [
    "np.linspace(2.05, 2.5, 5)"
   ]
  },
  {
   "cell_type": "markdown",
   "id": "f4521396",
   "metadata": {
    "slideshow": {
     "slide_type": "subslide"
    }
   },
   "source": [
    "2D Arrays: eye, diag, vander\n",
    "\n",
    "nD Arrays: zeros, ones, random.rand, fromfunction, ..."
   ]
  },
  {
   "cell_type": "code",
   "execution_count": 11,
   "id": "4179730b",
   "metadata": {},
   "outputs": [
    {
     "name": "stdout",
     "output_type": "stream",
     "text": [
      "a=array([[0., 0., 0.],\n",
      "       [0., 0., 0.],\n",
      "       [0., 0., 0.]])\n",
      "a.dtype=dtype('float64')\n",
      "a.size=9\n",
      "a.itemsize=8\n"
     ]
    }
   ],
   "source": [
    "np.zeros((3,3))"
   ]
  },
  {
   "cell_type": "code",
   "execution_count": 25,
   "id": "18c9a27f",
   "metadata": {},
   "outputs": [
    {
     "data": {
      "text/plain": [
       "array([[1., 1., 1.],\n",
       "       [1., 1., 1.],\n",
       "       [1., 1., 1.]])"
      ]
     },
     "execution_count": 25,
     "metadata": {},
     "output_type": "execute_result"
    }
   ],
   "source": [
    "np.ones((3,3))"
   ]
  },
  {
   "cell_type": "code",
   "execution_count": 26,
   "id": "b859e18e",
   "metadata": {},
   "outputs": [
    {
     "data": {
      "text/plain": [
       "array([[0, 1, 2],\n",
       "       [3, 4, 5],\n",
       "       [6, 7, 8]])"
      ]
     },
     "execution_count": 26,
     "metadata": {},
     "output_type": "execute_result"
    }
   ],
   "source": [
    "np.arange(9).reshape(3,3)"
   ]
  },
  {
   "cell_type": "code",
   "execution_count": 76,
   "id": "9299903d",
   "metadata": {},
   "outputs": [
    {
     "data": {
      "text/plain": [
       "(3, 3)"
      ]
     },
     "execution_count": 76,
     "metadata": {},
     "output_type": "execute_result"
    }
   ],
   "source": [
    "np.arange(9).reshape(3,3).shape"
   ]
  },
  {
   "cell_type": "markdown",
   "id": "075dd297",
   "metadata": {
    "slideshow": {
     "slide_type": "slide"
    }
   },
   "source": [
    "## Array handling\n",
    "### Indexing, slicing, masks, views, ...\n",
    "- [Slicing and Indexing](https://numpy.org/doc/stable/reference/arrays.indexing.html#basic-slicing-and-indexing)"
   ]
  },
  {
   "cell_type": "markdown",
   "id": "dbb6e37a",
   "metadata": {
    "slideshow": {
     "slide_type": "subslide"
    }
   },
   "source": [
    "### Indexing"
   ]
  },
  {
   "cell_type": "code",
   "execution_count": 27,
   "id": "6a3cd870",
   "metadata": {},
   "outputs": [
    {
     "data": {
      "text/plain": [
       "array([[0, 1, 2],\n",
       "       [3, 4, 5],\n",
       "       [6, 7, 8]])"
      ]
     },
     "execution_count": 27,
     "metadata": {},
     "output_type": "execute_result"
    }
   ],
   "source": [
    "a = np.arange(9).reshape(3,3)\n",
    "a"
   ]
  },
  {
   "cell_type": "code",
   "execution_count": 28,
   "id": "5560d67c",
   "metadata": {},
   "outputs": [
    {
     "data": {
      "text/plain": [
       "4"
      ]
     },
     "execution_count": 28,
     "metadata": {},
     "output_type": "execute_result"
    }
   ],
   "source": [
    "a[0,0]"
   ]
  },
  {
   "cell_type": "code",
   "execution_count": 29,
   "id": "cfc070c1",
   "metadata": {},
   "outputs": [
    {
     "data": {
      "text/plain": [
       "8"
      ]
     },
     "execution_count": 29,
     "metadata": {},
     "output_type": "execute_result"
    }
   ],
   "source": [
    "a[-1,-1]"
   ]
  },
  {
   "cell_type": "code",
   "execution_count": 30,
   "id": "b9862019",
   "metadata": {},
   "outputs": [
    {
     "data": {
      "text/plain": [
       "True"
      ]
     },
     "execution_count": 30,
     "metadata": {},
     "output_type": "execute_result"
    }
   ],
   "source": [
    "a[1,1] == a[-2,-2]"
   ]
  },
  {
   "cell_type": "markdown",
   "id": "018c4b03",
   "metadata": {
    "slideshow": {
     "slide_type": "subslide"
    }
   },
   "source": [
    "### Slicing"
   ]
  },
  {
   "cell_type": "code",
   "execution_count": 34,
   "id": "dde422c4",
   "metadata": {},
   "outputs": [
    {
     "data": {
      "text/plain": [
       "array([[0, 1, 2],\n",
       "       [3, 4, 5],\n",
       "       [6, 7, 8]])"
      ]
     },
     "execution_count": 34,
     "metadata": {},
     "output_type": "execute_result"
    }
   ],
   "source": [
    "a"
   ]
  },
  {
   "cell_type": "code",
   "execution_count": 31,
   "id": "6fd2852b-5e92-4c71-be88-39591eba9675",
   "metadata": {},
   "outputs": [
    {
     "data": {
      "text/plain": [
       "array([[4, 5],\n",
       "       [7, 8]])"
      ]
     },
     "execution_count": 31,
     "metadata": {},
     "output_type": "execute_result"
    }
   ],
   "source": [
    "a[1:,1:]"
   ]
  },
  {
   "cell_type": "code",
   "execution_count": 35,
   "id": "30fe2c59-83ca-4831-adbe-7174358d6f5b",
   "metadata": {},
   "outputs": [
    {
     "data": {
      "text/plain": [
       "array([[0],\n",
       "       [3],\n",
       "       [6]])"
      ]
     },
     "execution_count": 35,
     "metadata": {},
     "output_type": "execute_result"
    }
   ],
   "source": [
    "a[:, :1]"
   ]
  },
  {
   "cell_type": "code",
   "execution_count": 42,
   "id": "b22a9d82",
   "metadata": {},
   "outputs": [
    {
     "data": {
      "text/plain": [
       "array([0, 1, 2])"
      ]
     },
     "execution_count": 42,
     "metadata": {},
     "output_type": "execute_result"
    }
   ],
   "source": [
    "a[0]"
   ]
  },
  {
   "cell_type": "code",
   "execution_count": 33,
   "id": "dbddb9c7-582c-4d2b-b0a1-382a137adced",
   "metadata": {},
   "outputs": [
    {
     "data": {
      "text/plain": [
       "array([[1],\n",
       "       [7]])"
      ]
     },
     "execution_count": 33,
     "metadata": {},
     "output_type": "execute_result"
    }
   ],
   "source": [
    "a[::2, 1::2]"
   ]
  },
  {
   "cell_type": "markdown",
   "id": "d00cfcde",
   "metadata": {
    "slideshow": {
     "slide_type": "subslide"
    }
   },
   "source": [
    "### Index Array"
   ]
  },
  {
   "cell_type": "code",
   "execution_count": 36,
   "id": "11be742a",
   "metadata": {},
   "outputs": [
    {
     "data": {
      "text/plain": [
       "array([[0, 1, 2],\n",
       "       [3, 4, 5],\n",
       "       [6, 7, 8]])"
      ]
     },
     "execution_count": 36,
     "metadata": {},
     "output_type": "execute_result"
    }
   ],
   "source": [
    "a"
   ]
  },
  {
   "cell_type": "code",
   "execution_count": 59,
   "id": "6cbbe2e8",
   "metadata": {},
   "outputs": [
    {
     "data": {
      "text/plain": [
       "array([[1, 7]])"
      ]
     },
     "execution_count": 59,
     "metadata": {},
     "output_type": "execute_result"
    }
   ],
   "source": [
    "a[np.array([[0, 2]]), np.array([[1, 1]])]"
   ]
  },
  {
   "cell_type": "markdown",
   "id": "dce227d2",
   "metadata": {
    "slideshow": {
     "slide_type": "subslide"
    }
   },
   "source": [
    "## Mask"
   ]
  },
  {
   "cell_type": "code",
   "execution_count": 60,
   "id": "3915b523",
   "metadata": {},
   "outputs": [
    {
     "data": {
      "text/plain": [
       "array([[False, False, False],\n",
       "       [False, False, False],\n",
       "       [ True,  True,  True]])"
      ]
     },
     "execution_count": 60,
     "metadata": {},
     "output_type": "execute_result"
    }
   ],
   "source": [
    "a > 5"
   ]
  },
  {
   "cell_type": "code",
   "execution_count": 61,
   "id": "e9f0d5ad",
   "metadata": {},
   "outputs": [
    {
     "data": {
      "text/plain": [
       "array([6, 7, 8])"
      ]
     },
     "execution_count": 61,
     "metadata": {},
     "output_type": "execute_result"
    }
   ],
   "source": [
    "a[a>5]"
   ]
  },
  {
   "cell_type": "markdown",
   "id": "2d92b79c",
   "metadata": {
    "slideshow": {
     "slide_type": "subslide"
    }
   },
   "source": [
    "### Newaxis"
   ]
  },
  {
   "cell_type": "code",
   "execution_count": 62,
   "id": "328c5878",
   "metadata": {},
   "outputs": [
    {
     "data": {
      "text/plain": [
       "array([1, 2, 3])"
      ]
     },
     "execution_count": 62,
     "metadata": {},
     "output_type": "execute_result"
    }
   ],
   "source": [
    "b = np.array([1,2,3])\n",
    "b"
   ]
  },
  {
   "cell_type": "code",
   "execution_count": 63,
   "id": "3c6038da",
   "metadata": {},
   "outputs": [
    {
     "data": {
      "text/plain": [
       "array([[1],\n",
       "       [2],\n",
       "       [3]])"
      ]
     },
     "execution_count": 63,
     "metadata": {},
     "output_type": "execute_result"
    }
   ],
   "source": [
    "b[:, np.newaxis]"
   ]
  },
  {
   "cell_type": "markdown",
   "id": "489b6b7f",
   "metadata": {
    "slideshow": {
     "slide_type": "subslide"
    }
   },
   "source": [
    "## Ellipsis"
   ]
  },
  {
   "cell_type": "code",
   "execution_count": 66,
   "id": "0b877195",
   "metadata": {},
   "outputs": [],
   "source": [
    "c = np.arange(81).reshape(3,3,3,3)"
   ]
  },
  {
   "cell_type": "code",
   "execution_count": 67,
   "id": "06f36305",
   "metadata": {},
   "outputs": [
    {
     "data": {
      "text/plain": [
       "array([[ 0,  9, 18],\n",
       "       [27, 36, 45],\n",
       "       [54, 63, 72]])"
      ]
     },
     "execution_count": 67,
     "metadata": {},
     "output_type": "execute_result"
    }
   ],
   "source": [
    "c[...,0,0]"
   ]
  },
  {
   "cell_type": "code",
   "execution_count": 70,
   "id": "a3cac7a3",
   "metadata": {},
   "outputs": [
    {
     "data": {
      "text/plain": [
       "True"
      ]
     },
     "execution_count": 70,
     "metadata": {},
     "output_type": "execute_result"
    }
   ],
   "source": [
    "np.all(c[..., 0, 0] == c[:, :, 0, 0])"
   ]
  },
  {
   "cell_type": "markdown",
   "id": "d873fcaf",
   "metadata": {
    "slideshow": {
     "slide_type": "slide"
    }
   },
   "source": [
    "## Numpy's Pitfalls\n",
    "- Views don't copy\n",
    "- Types (arange)\n",
    "- Automatic type casting (int, float)"
   ]
  },
  {
   "cell_type": "markdown",
   "id": "c79713c0",
   "metadata": {},
   "source": [
    "TODO, math(never do forloops), copy"
   ]
  },
  {
   "cell_type": "code",
   "execution_count": null,
   "id": "bfe5f734",
   "metadata": {},
   "outputs": [],
   "source": []
  },
  {
   "cell_type": "markdown",
   "id": "7d5fa0cd",
   "metadata": {},
   "source": [
    "\n",
    "Stuff to Avoid\n",
    "\n",
    "NumPy has some cruft left over due to backwards compatibility. There are some edge cases when you would (maybe) use these things (but probably not). In general, avoid them:\n",
    "\n",
    "    np.chararray: use an np.ndarray with unicode dtype\n",
    "    np.MaskedArrays: use a boolean advanced index\n",
    "    np.matrix: use a 2-dimensional np.ndarray\n",
    "\n"
   ]
  },
  {
   "cell_type": "code",
   "execution_count": null,
   "id": "e782e5e6",
   "metadata": {},
   "outputs": [],
   "source": [
    "# Not mentioned\n",
    "#np.sort, np.unique\n",
    "#Array composition and decomposition np.split, np.stack\n",
    "#Reductions many-to-1 np.sum, np.prod, np.count_nonzero"
   ]
  },
  {
   "cell_type": "markdown",
   "id": "9cd54c36",
   "metadata": {},
   "source": [
    "# scipy"
   ]
  },
  {
   "cell_type": "markdown",
   "id": "34250af0",
   "metadata": {
    "slideshow": {
     "slide_type": "slide"
    }
   },
   "source": [
    "# matplotlib"
   ]
  },
  {
   "cell_type": "code",
   "execution_count": 71,
   "id": "ac153a84",
   "metadata": {},
   "outputs": [],
   "source": [
    "%matplotlib inline\n",
    "import matplotlib.pyplot as plt"
   ]
  },
  {
   "cell_type": "markdown",
   "id": "4739b0e7",
   "metadata": {},
   "source": [
    "TODO description"
   ]
  },
  {
   "cell_type": "code",
   "execution_count": 89,
   "id": "c27c0baa",
   "metadata": {},
   "outputs": [
    {
     "data": {
      "image/png": "[encoded data removed]",
      "text/plain": [
       "<Figure size 432x288 with 1 Axes>"
      ]
     },
     "metadata": {
      "needs_background": "light"
     },
     "output_type": "display_data"
    }
   ],
   "source": [
    "plt.plot(np.linspace(1, 4, 10), np.logspace(1, 4, 10))\n",
    "#plt.show()\n",
    "plt.plot(np.linspace(1, 4, 10), np.logspace(1, 4, 10), 'o')\n",
    "plt.show()"
   ]
  },
  {
   "cell_type": "code",
   "execution_count": 86,
   "id": "681ed721",
   "metadata": {},
   "outputs": [
    {
     "data": {
      "image/png": "[encoded data removed]",
      "text/plain": [
       "<Figure size 432x288 with 1 Axes>"
      ]
     },
     "metadata": {
      "needs_background": "light"
     },
     "output_type": "display_data"
    },
    {
     "data": {
      "image/png": "[encoded data removed]",
      "text/plain": [
       "<Figure size 432x288 with 1 Axes>"
      ]
     },
     "metadata": {
      "needs_background": "light"
     },
     "output_type": "display_data"
    }
   ],
   "source": [
    "plt.imshow(np.random.rand(20,20))\n",
    "plt.show()"
   ]
  },
  {
   "cell_type": "markdown",
   "id": "99d9fafc",
   "metadata": {},
   "source": [
    "Putting it together (some example with numpy and matplotlib, smoothing? jacobi?)"
   ]
  },
  {
   "cell_type": "code",
   "execution_count": null,
   "id": "14c2cc0a",
   "metadata": {},
   "outputs": [],
   "source": []
  },
  {
   "cell_type": "markdown",
   "id": "ad6c5caa",
   "metadata": {
    "slideshow": {
     "slide_type": "slide"
    }
   },
   "source": [
    "## Further Resources\n",
    "- [Docs](https://numpy.org/doc/stable/index.html)\n",
    "- [Reference](https://numpy.org/doc/stable/reference/index.html#reference)\n",
    "- [Scipy Lecture Notes](http://scipy-lectures.org/)\n",
    "- [From Python to Numpy/](https://www.labri.fr/perso/nrougier/from-python-to-numpy/)"
   ]
  },
  {
   "cell_type": "code",
   "execution_count": null,
   "id": "9d95f044",
   "metadata": {},
   "outputs": [],
   "source": []
  }
 ],
 "metadata": {
  "celltoolbar": "Slideshow",
  "kernelspec": {
   "display_name": "Python 3 (ipykernel)",
   "language": "python",
   "name": "python3"
  },
  "language_info": {
   "codemirror_mode": {
    "name": "ipython",
    "version": 3
   },
   "file_extension": ".py",
   "mimetype": "text/x-python",
   "name": "python",
   "nbconvert_exporter": "python",
   "pygments_lexer": "ipython3",
   "version": "3.9.9"
  }
 },
 "nbformat": 4,
 "nbformat_minor": 5
}
